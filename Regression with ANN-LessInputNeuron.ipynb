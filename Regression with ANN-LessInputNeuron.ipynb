{
 "cells": [
  {
   "cell_type": "code",
   "execution_count": 1,
   "id": "218f8cdc",
   "metadata": {},
   "outputs": [],
   "source": [
    "import pandas as pd"
   ]
  },
  {
   "cell_type": "code",
   "execution_count": 2,
   "id": "27b2a0ae",
   "metadata": {},
   "outputs": [],
   "source": [
    "data =  pd.read_csv(\"FuelConsumption.csv\")"
   ]
  },
  {
   "cell_type": "code",
   "execution_count": 3,
   "id": "0c268cf8",
   "metadata": {},
   "outputs": [
    {
     "data": {
      "text/plain": [
       "(1067, 13)"
      ]
     },
     "execution_count": 3,
     "metadata": {},
     "output_type": "execute_result"
    }
   ],
   "source": [
    "data.shape"
   ]
  },
  {
   "cell_type": "code",
   "execution_count": 4,
   "id": "d380f622",
   "metadata": {},
   "outputs": [],
   "source": [
    "data = data.sample(1000)"
   ]
  },
  {
   "cell_type": "code",
   "execution_count": 5,
   "id": "f9019f52",
   "metadata": {},
   "outputs": [
    {
     "data": {
      "text/html": [
       "<div>\n",
       "<style scoped>\n",
       "    .dataframe tbody tr th:only-of-type {\n",
       "        vertical-align: middle;\n",
       "    }\n",
       "\n",
       "    .dataframe tbody tr th {\n",
       "        vertical-align: top;\n",
       "    }\n",
       "\n",
       "    .dataframe thead th {\n",
       "        text-align: right;\n",
       "    }\n",
       "</style>\n",
       "<table border=\"1\" class=\"dataframe\">\n",
       "  <thead>\n",
       "    <tr style=\"text-align: right;\">\n",
       "      <th></th>\n",
       "      <th>MODELYEAR</th>\n",
       "      <th>MAKE</th>\n",
       "      <th>MODEL</th>\n",
       "      <th>VEHICLECLASS</th>\n",
       "      <th>ENGINESIZE</th>\n",
       "      <th>CYLINDERS</th>\n",
       "      <th>TRANSMISSION</th>\n",
       "      <th>FUELTYPE</th>\n",
       "      <th>FUELCONSUMPTION_CITY</th>\n",
       "      <th>FUELCONSUMPTION_HWY</th>\n",
       "      <th>FUELCONSUMPTION_COMB</th>\n",
       "      <th>FUELCONSUMPTION_COMB_MPG</th>\n",
       "      <th>CO2EMISSIONS</th>\n",
       "    </tr>\n",
       "  </thead>\n",
       "  <tbody>\n",
       "    <tr>\n",
       "      <th>1039</th>\n",
       "      <td>2014</td>\n",
       "      <td>VOLKSWAGEN</td>\n",
       "      <td>JETTA GLI</td>\n",
       "      <td>COMPACT</td>\n",
       "      <td>2.0</td>\n",
       "      <td>4</td>\n",
       "      <td>M6</td>\n",
       "      <td>Z</td>\n",
       "      <td>10.6</td>\n",
       "      <td>7.4</td>\n",
       "      <td>9.2</td>\n",
       "      <td>31</td>\n",
       "      <td>212</td>\n",
       "    </tr>\n",
       "    <tr>\n",
       "      <th>300</th>\n",
       "      <td>2014</td>\n",
       "      <td>DODGE</td>\n",
       "      <td>CHALLENGER SRT</td>\n",
       "      <td>MID-SIZE</td>\n",
       "      <td>6.4</td>\n",
       "      <td>8</td>\n",
       "      <td>M6</td>\n",
       "      <td>Z</td>\n",
       "      <td>16.8</td>\n",
       "      <td>10.4</td>\n",
       "      <td>13.9</td>\n",
       "      <td>20</td>\n",
       "      <td>320</td>\n",
       "    </tr>\n",
       "  </tbody>\n",
       "</table>\n",
       "</div>"
      ],
      "text/plain": [
       "      MODELYEAR        MAKE           MODEL VEHICLECLASS  ENGINESIZE  \\\n",
       "1039       2014  VOLKSWAGEN       JETTA GLI      COMPACT         2.0   \n",
       "300        2014       DODGE  CHALLENGER SRT     MID-SIZE         6.4   \n",
       "\n",
       "      CYLINDERS TRANSMISSION FUELTYPE  FUELCONSUMPTION_CITY  \\\n",
       "1039          4           M6        Z                  10.6   \n",
       "300           8           M6        Z                  16.8   \n",
       "\n",
       "      FUELCONSUMPTION_HWY  FUELCONSUMPTION_COMB  FUELCONSUMPTION_COMB_MPG  \\\n",
       "1039                  7.4                   9.2                        31   \n",
       "300                  10.4                  13.9                        20   \n",
       "\n",
       "      CO2EMISSIONS  \n",
       "1039           212  \n",
       "300            320  "
      ]
     },
     "execution_count": 5,
     "metadata": {},
     "output_type": "execute_result"
    }
   ],
   "source": [
    "data.head(2)"
   ]
  },
  {
   "cell_type": "code",
   "execution_count": 6,
   "id": "f2f6a2cf",
   "metadata": {},
   "outputs": [
    {
     "data": {
      "text/plain": [
       "Index(['MODELYEAR', 'MAKE', 'MODEL', 'VEHICLECLASS', 'ENGINESIZE', 'CYLINDERS',\n",
       "       'TRANSMISSION', 'FUELTYPE', 'FUELCONSUMPTION_CITY',\n",
       "       'FUELCONSUMPTION_HWY', 'FUELCONSUMPTION_COMB',\n",
       "       'FUELCONSUMPTION_COMB_MPG', 'CO2EMISSIONS'],\n",
       "      dtype='object')"
      ]
     },
     "execution_count": 6,
     "metadata": {},
     "output_type": "execute_result"
    }
   ],
   "source": [
    "data.columns"
   ]
  },
  {
   "cell_type": "code",
   "execution_count": 7,
   "id": "61a621d2",
   "metadata": {},
   "outputs": [],
   "source": [
    "data = data[['ENGINESIZE', 'CYLINDERS','FUELCONSUMPTION_COMB','CO2EMISSIONS']]"
   ]
  },
  {
   "cell_type": "code",
   "execution_count": 8,
   "id": "3987fcbd",
   "metadata": {},
   "outputs": [
    {
     "data": {
      "text/html": [
       "<div>\n",
       "<style scoped>\n",
       "    .dataframe tbody tr th:only-of-type {\n",
       "        vertical-align: middle;\n",
       "    }\n",
       "\n",
       "    .dataframe tbody tr th {\n",
       "        vertical-align: top;\n",
       "    }\n",
       "\n",
       "    .dataframe thead th {\n",
       "        text-align: right;\n",
       "    }\n",
       "</style>\n",
       "<table border=\"1\" class=\"dataframe\">\n",
       "  <thead>\n",
       "    <tr style=\"text-align: right;\">\n",
       "      <th></th>\n",
       "      <th>ENGINESIZE</th>\n",
       "      <th>CYLINDERS</th>\n",
       "      <th>FUELCONSUMPTION_COMB</th>\n",
       "      <th>CO2EMISSIONS</th>\n",
       "    </tr>\n",
       "  </thead>\n",
       "  <tbody>\n",
       "    <tr>\n",
       "      <th>1039</th>\n",
       "      <td>2.0</td>\n",
       "      <td>4</td>\n",
       "      <td>9.2</td>\n",
       "      <td>212</td>\n",
       "    </tr>\n",
       "    <tr>\n",
       "      <th>300</th>\n",
       "      <td>6.4</td>\n",
       "      <td>8</td>\n",
       "      <td>13.9</td>\n",
       "      <td>320</td>\n",
       "    </tr>\n",
       "  </tbody>\n",
       "</table>\n",
       "</div>"
      ],
      "text/plain": [
       "      ENGINESIZE  CYLINDERS  FUELCONSUMPTION_COMB  CO2EMISSIONS\n",
       "1039         2.0          4                   9.2           212\n",
       "300          6.4          8                  13.9           320"
      ]
     },
     "execution_count": 8,
     "metadata": {},
     "output_type": "execute_result"
    }
   ],
   "source": [
    "data.head(2)"
   ]
  },
  {
   "cell_type": "code",
   "execution_count": 9,
   "id": "0b47bb18",
   "metadata": {},
   "outputs": [],
   "source": [
    "X = data.drop(['CO2EMISSIONS'],axis = 1).values"
   ]
  },
  {
   "cell_type": "code",
   "execution_count": 10,
   "id": "66b2448c",
   "metadata": {},
   "outputs": [
    {
     "data": {
      "text/plain": [
       "array([[ 2. ,  4. ,  9.2],\n",
       "       [ 6.4,  8. , 13.9],\n",
       "       [ 6. ,  8. , 18.9],\n",
       "       ...,\n",
       "       [ 2.7,  4. , 10. ],\n",
       "       [ 3. ,  6. , 11.8],\n",
       "       [ 4. ,  6. , 12.7]])"
      ]
     },
     "execution_count": 10,
     "metadata": {},
     "output_type": "execute_result"
    }
   ],
   "source": [
    "X"
   ]
  },
  {
   "cell_type": "code",
   "execution_count": 11,
   "id": "6836e703",
   "metadata": {},
   "outputs": [],
   "source": [
    "y = data['CO2EMISSIONS'].values"
   ]
  },
  {
   "cell_type": "code",
   "execution_count": 12,
   "id": "f42ceed0",
   "metadata": {},
   "outputs": [],
   "source": [
    "from sklearn.model_selection import train_test_split\n"
   ]
  },
  {
   "cell_type": "code",
   "execution_count": 13,
   "id": "e30ef4c5",
   "metadata": {},
   "outputs": [],
   "source": [
    "x_train,x_test,y_train,y_test = train_test_split(X,y, test_size=0.2, random_state=50)"
   ]
  },
  {
   "cell_type": "code",
   "execution_count": 14,
   "id": "9d0ae680",
   "metadata": {},
   "outputs": [
    {
     "data": {
      "text/plain": [
       "(800, 3)"
      ]
     },
     "execution_count": 14,
     "metadata": {},
     "output_type": "execute_result"
    }
   ],
   "source": [
    "x_train.shape"
   ]
  },
  {
   "cell_type": "code",
   "execution_count": 15,
   "id": "b9d37624",
   "metadata": {},
   "outputs": [
    {
     "data": {
      "text/plain": [
       "40.0"
      ]
     },
     "execution_count": 15,
     "metadata": {},
     "output_type": "execute_result"
    }
   ],
   "source": [
    "800 / 20"
   ]
  },
  {
   "cell_type": "code",
   "execution_count": null,
   "id": "6afddc19",
   "metadata": {},
   "outputs": [],
   "source": []
  },
  {
   "cell_type": "code",
   "execution_count": 16,
   "id": "b9c42c18",
   "metadata": {},
   "outputs": [
    {
     "data": {
      "text/plain": [
       "42.65"
      ]
     },
     "execution_count": 16,
     "metadata": {},
     "output_type": "execute_result"
    }
   ],
   "source": [
    "853 / 20"
   ]
  },
  {
   "cell_type": "code",
   "execution_count": 17,
   "id": "e6913f18",
   "metadata": {},
   "outputs": [],
   "source": [
    "from tensorflow.keras.models import Sequential"
   ]
  },
  {
   "cell_type": "code",
   "execution_count": 18,
   "id": "e4eb3d4a",
   "metadata": {},
   "outputs": [],
   "source": [
    "model = Sequential() #brain with out neuron"
   ]
  },
  {
   "cell_type": "code",
   "execution_count": 19,
   "id": "5e9e5023",
   "metadata": {},
   "outputs": [],
   "source": [
    "from tensorflow.keras.layers import Dense"
   ]
  },
  {
   "cell_type": "code",
   "execution_count": 20,
   "id": "01b08a24",
   "metadata": {},
   "outputs": [],
   "source": [
    "#input layer neurons"
   ]
  },
  {
   "cell_type": "code",
   "execution_count": 21,
   "id": "84eb35fe",
   "metadata": {},
   "outputs": [],
   "source": [
    "model.add(Dense(62, activation='relu',input_shape = (3,))) #input layer \n",
    "#number of neurons, activation_func, input_shape = number of independent var"
   ]
  },
  {
   "cell_type": "code",
   "execution_count": 22,
   "id": "d843d68f",
   "metadata": {},
   "outputs": [],
   "source": [
    "#hidden layer neruon\n",
    "model.add(Dense(500, activation='relu')) #h1\n",
    "model.add(Dense(700, activation='relu')) #h2\n",
    "model.add(Dense(252, activation='relu')) #h3"
   ]
  },
  {
   "cell_type": "code",
   "execution_count": 23,
   "id": "9dfcad8a",
   "metadata": {},
   "outputs": [],
   "source": [
    "#output layer neuron\n",
    "model.add(Dense(1)) #without activation function becuase it is regresssion problem "
   ]
  },
  {
   "cell_type": "code",
   "execution_count": 24,
   "id": "144383f4",
   "metadata": {},
   "outputs": [],
   "source": [
    "model.compile(optimizer='adam', loss = 'mean_squared_error') \n",
    "#optimizer - adam \n",
    "# loss mean_squared_error or we can use mean_absolute_error"
   ]
  },
  {
   "cell_type": "code",
   "execution_count": 25,
   "id": "3840e22d",
   "metadata": {},
   "outputs": [
    {
     "name": "stdout",
     "output_type": "stream",
     "text": [
      "Epoch 1/100\n",
      "40/40 [==============================] - 1s 16ms/step - loss: 44254.9141\n",
      "Epoch 2/100\n",
      "40/40 [==============================] - 1s 16ms/step - loss: 6592.5283\n",
      "Epoch 3/100\n",
      "40/40 [==============================] - 1s 16ms/step - loss: 3483.3647\n",
      "Epoch 4/100\n",
      "40/40 [==============================] - 1s 17ms/step - loss: 2769.2466\n",
      "Epoch 5/100\n",
      "40/40 [==============================] - 1s 17ms/step - loss: 2355.5850\n",
      "Epoch 6/100\n",
      "40/40 [==============================] - 1s 17ms/step - loss: 2065.4072\n",
      "Epoch 7/100\n",
      "40/40 [==============================] - 1s 18ms/step - loss: 1806.2976\n",
      "Epoch 8/100\n",
      "40/40 [==============================] - 1s 17ms/step - loss: 1606.6066\n",
      "Epoch 9/100\n",
      "40/40 [==============================] - 1s 19ms/step - loss: 1452.7919\n",
      "Epoch 10/100\n",
      "40/40 [==============================] - 1s 19ms/step - loss: 1334.9821\n",
      "Epoch 11/100\n",
      "40/40 [==============================] - 1s 24ms/step - loss: 1200.7133\n",
      "Epoch 12/100\n",
      "40/40 [==============================] - 1s 16ms/step - loss: 1042.8064\n",
      "Epoch 13/100\n",
      "40/40 [==============================] - 1s 21ms/step - loss: 933.6941\n",
      "Epoch 14/100\n",
      "40/40 [==============================] - 1s 23ms/step - loss: 821.5840\n",
      "Epoch 15/100\n",
      "40/40 [==============================] - 1s 26ms/step - loss: 771.2068\n",
      "Epoch 16/100\n",
      "40/40 [==============================] - 1s 16ms/step - loss: 743.0234\n",
      "Epoch 17/100\n",
      "40/40 [==============================] - 1s 18ms/step - loss: 674.5457\n",
      "Epoch 18/100\n",
      "40/40 [==============================] - 1s 17ms/step - loss: 722.2906\n",
      "Epoch 19/100\n",
      "40/40 [==============================] - 1s 17ms/step - loss: 643.1815\n",
      "Epoch 20/100\n",
      "40/40 [==============================] - 1s 18ms/step - loss: 668.0076\n",
      "Epoch 21/100\n",
      "40/40 [==============================] - 1s 16ms/step - loss: 625.4781\n",
      "Epoch 22/100\n",
      "40/40 [==============================] - 1s 15ms/step - loss: 575.6252\n",
      "Epoch 23/100\n",
      "40/40 [==============================] - 1s 18ms/step - loss: 556.0524\n",
      "Epoch 24/100\n",
      "40/40 [==============================] - 0s 11ms/step - loss: 551.4409\n",
      "Epoch 25/100\n",
      "40/40 [==============================] - 1s 13ms/step - loss: 538.7062\n",
      "Epoch 26/100\n",
      "40/40 [==============================] - 1s 21ms/step - loss: 512.9098\n",
      "Epoch 27/100\n",
      "40/40 [==============================] - 1s 16ms/step - loss: 533.0083\n",
      "Epoch 28/100\n",
      "40/40 [==============================] - 1s 17ms/step - loss: 510.6840\n",
      "Epoch 29/100\n",
      "40/40 [==============================] - 1s 22ms/step - loss: 491.0331\n",
      "Epoch 30/100\n",
      "40/40 [==============================] - 1s 16ms/step - loss: 467.4359\n",
      "Epoch 31/100\n",
      "40/40 [==============================] - 1s 14ms/step - loss: 478.8074\n",
      "Epoch 32/100\n",
      "40/40 [==============================] - 0s 10ms/step - loss: 450.7162\n",
      "Epoch 33/100\n",
      "40/40 [==============================] - 0s 11ms/step - loss: 454.3691\n",
      "Epoch 34/100\n",
      "40/40 [==============================] - 1s 17ms/step - loss: 444.2468\n",
      "Epoch 35/100\n",
      "40/40 [==============================] - 1s 17ms/step - loss: 440.5482\n",
      "Epoch 36/100\n",
      "40/40 [==============================] - 1s 21ms/step - loss: 433.8686\n",
      "Epoch 37/100\n",
      "40/40 [==============================] - 1s 17ms/step - loss: 426.9942\n",
      "Epoch 38/100\n",
      "40/40 [==============================] - 1s 17ms/step - loss: 453.5241\n",
      "Epoch 39/100\n",
      "40/40 [==============================] - 1s 17ms/step - loss: 487.0046\n",
      "Epoch 40/100\n",
      "40/40 [==============================] - 1s 17ms/step - loss: 409.1845\n",
      "Epoch 41/100\n",
      "40/40 [==============================] - 1s 18ms/step - loss: 428.3883\n",
      "Epoch 42/100\n",
      "40/40 [==============================] - 1s 17ms/step - loss: 435.3383\n",
      "Epoch 43/100\n",
      "40/40 [==============================] - 1s 19ms/step - loss: 423.8955\n",
      "Epoch 44/100\n",
      "40/40 [==============================] - 1s 22ms/step - loss: 410.5528\n",
      "Epoch 45/100\n",
      "40/40 [==============================] - 1s 20ms/step - loss: 391.1635\n",
      "Epoch 46/100\n",
      "40/40 [==============================] - 1s 23ms/step - loss: 388.4166\n",
      "Epoch 47/100\n",
      "40/40 [==============================] - 1s 24ms/step - loss: 394.8045\n",
      "Epoch 48/100\n",
      "40/40 [==============================] - 1s 19ms/step - loss: 396.9936\n",
      "Epoch 49/100\n",
      "40/40 [==============================] - 1s 16ms/step - loss: 383.7718\n",
      "Epoch 50/100\n",
      "40/40 [==============================] - 1s 16ms/step - loss: 381.8704\n",
      "Epoch 51/100\n",
      "40/40 [==============================] - 1s 17ms/step - loss: 388.8018\n",
      "Epoch 52/100\n",
      "40/40 [==============================] - 1s 18ms/step - loss: 379.6894\n",
      "Epoch 53/100\n",
      "40/40 [==============================] - 1s 17ms/step - loss: 432.6190\n",
      "Epoch 54/100\n",
      "40/40 [==============================] - 1s 16ms/step - loss: 399.8911\n",
      "Epoch 55/100\n",
      "40/40 [==============================] - 1s 15ms/step - loss: 383.9116\n",
      "Epoch 56/100\n",
      "40/40 [==============================] - 1s 19ms/step - loss: 421.2179\n",
      "Epoch 57/100\n",
      "40/40 [==============================] - 1s 22ms/step - loss: 376.7717\n",
      "Epoch 58/100\n",
      "40/40 [==============================] - 1s 20ms/step - loss: 366.8025\n",
      "Epoch 59/100\n",
      "40/40 [==============================] - 1s 20ms/step - loss: 365.0140\n",
      "Epoch 60/100\n",
      "40/40 [==============================] - 1s 20ms/step - loss: 379.4625\n",
      "Epoch 61/100\n",
      "40/40 [==============================] - 1s 21ms/step - loss: 383.3915\n",
      "Epoch 62/100\n",
      "40/40 [==============================] - 1s 20ms/step - loss: 359.7634\n",
      "Epoch 63/100\n",
      "40/40 [==============================] - 1s 19ms/step - loss: 362.9716\n",
      "Epoch 64/100\n",
      "40/40 [==============================] - 1s 16ms/step - loss: 393.1172\n",
      "Epoch 65/100\n",
      "40/40 [==============================] - 1s 15ms/step - loss: 355.3681\n",
      "Epoch 66/100\n",
      "40/40 [==============================] - 1s 16ms/step - loss: 387.6027\n",
      "Epoch 67/100\n",
      "40/40 [==============================] - 1s 21ms/step - loss: 371.2554\n",
      "Epoch 68/100\n",
      "40/40 [==============================] - 1s 20ms/step - loss: 414.6225\n",
      "Epoch 69/100\n",
      "40/40 [==============================] - 1s 21ms/step - loss: 356.1151\n",
      "Epoch 70/100\n",
      "40/40 [==============================] - 1s 21ms/step - loss: 355.1466\n",
      "Epoch 71/100\n",
      "40/40 [==============================] - 1s 21ms/step - loss: 345.2427\n",
      "Epoch 72/100\n",
      "40/40 [==============================] - 1s 21ms/step - loss: 354.2437\n",
      "Epoch 73/100\n",
      "40/40 [==============================] - 1s 17ms/step - loss: 355.2608\n",
      "Epoch 74/100\n",
      "40/40 [==============================] - 1s 19ms/step - loss: 371.8597\n",
      "Epoch 75/100\n",
      "40/40 [==============================] - 1s 21ms/step - loss: 345.3793\n",
      "Epoch 76/100\n",
      "40/40 [==============================] - 1s 20ms/step - loss: 354.6521\n",
      "Epoch 77/100\n",
      "40/40 [==============================] - 1s 20ms/step - loss: 350.6317\n",
      "Epoch 78/100\n",
      "40/40 [==============================] - 1s 22ms/step - loss: 372.1419\n",
      "Epoch 79/100\n",
      "40/40 [==============================] - 1s 20ms/step - loss: 348.2023\n",
      "Epoch 80/100\n",
      "40/40 [==============================] - 1s 19ms/step - loss: 347.1059\n",
      "Epoch 81/100\n",
      "40/40 [==============================] - 1s 20ms/step - loss: 366.8238\n",
      "Epoch 82/100\n",
      "40/40 [==============================] - 1s 21ms/step - loss: 349.5485\n",
      "Epoch 83/100\n",
      "40/40 [==============================] - 1s 20ms/step - loss: 362.3468\n",
      "Epoch 84/100\n",
      "40/40 [==============================] - 1s 21ms/step - loss: 355.7873\n",
      "Epoch 85/100\n",
      "40/40 [==============================] - 1s 20ms/step - loss: 337.8228\n",
      "Epoch 86/100\n",
      "40/40 [==============================] - 1s 20ms/step - loss: 374.0912\n",
      "Epoch 87/100\n",
      "40/40 [==============================] - 1s 19ms/step - loss: 370.4447\n",
      "Epoch 88/100\n",
      "40/40 [==============================] - 1s 20ms/step - loss: 383.5425\n",
      "Epoch 89/100\n",
      "40/40 [==============================] - 1s 20ms/step - loss: 403.2563\n",
      "Epoch 90/100\n",
      "40/40 [==============================] - 1s 16ms/step - loss: 339.0351\n",
      "Epoch 91/100\n",
      "40/40 [==============================] - 1s 15ms/step - loss: 331.3002\n",
      "Epoch 92/100\n",
      "40/40 [==============================] - 1s 14ms/step - loss: 361.0298\n",
      "Epoch 93/100\n",
      "40/40 [==============================] - 1s 14ms/step - loss: 365.8383\n",
      "Epoch 94/100\n",
      "40/40 [==============================] - 1s 14ms/step - loss: 380.9902\n",
      "Epoch 95/100\n",
      "40/40 [==============================] - 1s 17ms/step - loss: 341.1449\n",
      "Epoch 96/100\n",
      "40/40 [==============================] - 1s 17ms/step - loss: 332.4273\n",
      "Epoch 97/100\n",
      "40/40 [==============================] - 1s 17ms/step - loss: 345.1907\n",
      "Epoch 98/100\n"
     ]
    },
    {
     "name": "stdout",
     "output_type": "stream",
     "text": [
      "40/40 [==============================] - 1s 16ms/step - loss: 342.0591\n",
      "Epoch 99/100\n",
      "40/40 [==============================] - 1s 17ms/step - loss: 355.1544\n",
      "Epoch 100/100\n",
      "40/40 [==============================] - 1s 18ms/step - loss: 361.1040\n"
     ]
    },
    {
     "data": {
      "text/plain": [
       "<keras.callbacks.History at 0x2d091664e50>"
      ]
     },
     "execution_count": 25,
     "metadata": {},
     "output_type": "execute_result"
    }
   ],
   "source": [
    "model.fit(x_train,y_train, epochs = 100, batch_size = 20) #passing indvar, dependentVar, epochs, batch_size"
   ]
  },
  {
   "cell_type": "code",
   "execution_count": 26,
   "id": "d44d9ad4",
   "metadata": {},
   "outputs": [
    {
     "name": "stdout",
     "output_type": "stream",
     "text": [
      "7/7 [==============================] - 0s 7ms/step\n"
     ]
    },
    {
     "data": {
      "text/plain": [
       "0.9027027743513162"
      ]
     },
     "execution_count": 26,
     "metadata": {},
     "output_type": "execute_result"
    }
   ],
   "source": [
    "y_pred = model.predict(x_test)\n",
    "from sklearn.metrics import r2_score\n",
    "r2_score(y_test,y_pred)"
   ]
  },
  {
   "cell_type": "code",
   "execution_count": null,
   "id": "67f425ce",
   "metadata": {},
   "outputs": [],
   "source": []
  }
 ],
 "metadata": {
  "kernelspec": {
   "display_name": "Python 3 (ipykernel)",
   "language": "python",
   "name": "python3"
  },
  "language_info": {
   "codemirror_mode": {
    "name": "ipython",
    "version": 3
   },
   "file_extension": ".py",
   "mimetype": "text/x-python",
   "name": "python",
   "nbconvert_exporter": "python",
   "pygments_lexer": "ipython3",
   "version": "3.9.13"
  }
 },
 "nbformat": 4,
 "nbformat_minor": 5
}
